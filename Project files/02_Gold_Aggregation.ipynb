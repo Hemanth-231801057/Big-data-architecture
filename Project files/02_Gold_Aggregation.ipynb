{
 "cells": [
  {
   "cell_type": "code",
   "execution_count": 0,
   "metadata": {
    "application/vnd.databricks.v1+cell": {
     "cellMetadata": {
      "byteLimit": 2048000,
      "rowLimit": 10000
     },
     "inputWidgets": {},
     "nuid": "b5d7b016-5d69-430a-85c5-6901a0b8c235",
     "showTitle": false,
     "tableResultSettingsMap": {},
     "title": ""
    }
   },
   "outputs": [
    {
     "output_type": "display_data",
     "data": {
      "text/html": [
       "<style scoped>\n",
       "  .table-result-container {\n",
       "    max-height: 300px;\n",
       "    overflow: auto;\n",
       "  }\n",
       "  table, th, td {\n",
       "    border: 1px solid black;\n",
       "    border-collapse: collapse;\n",
       "  }\n",
       "  th, td {\n",
       "    padding: 5px;\n",
       "  }\n",
       "  th {\n",
       "    text-align: left;\n",
       "  }\n",
       "</style><div class='table-result-container'><table class='table-result'><thead style='background-color: white'><tr><th>customer_type</th><th>customer_age_group</th><th>city</th><th>merchant_cat</th><th>total_spent</th><th>total_transactions</th><th>unique_channels</th><th>fraud_transactions</th><th>avg_transaction_value</th><th>fraud_rate</th></tr></thead><tbody><tr><td>Occasional</td><td>36-50</td><td>Pune</td><td>Electronics</td><td>7088.332805285103</td><td>344</td><td>4</td><td>11</td><td>20.61</td><td>0.032</td></tr><tr><td>Premium</td><td>36-50</td><td>Chennai</td><td>Pharmacy</td><td>14309.144757095182</td><td>471</td><td>4</td><td>11</td><td>30.38</td><td>0.0234</td></tr><tr><td>Regular</td><td>51+</td><td>Mumbai</td><td>Entertainment</td><td>11668.443589831237</td><td>606</td><td>4</td><td>13</td><td>19.25</td><td>0.0215</td></tr><tr><td>Premium</td><td>18-25</td><td>Bengaluru</td><td>Pharmacy</td><td>9860.339519188821</td><td>486</td><td>4</td><td>14</td><td>20.29</td><td>0.0288</td></tr><tr><td>Premium</td><td>26-35</td><td>Bengaluru</td><td>Grocery</td><td>19461.512148692913</td><td>985</td><td>4</td><td>30</td><td>19.76</td><td>0.0305</td></tr><tr><td>Regular</td><td>51+</td><td>Pune</td><td>Fuel</td><td>4431.864992132613</td><td>212</td><td>4</td><td>4</td><td>20.91</td><td>0.0189</td></tr><tr><td>Regular</td><td>36-50</td><td>Pune</td><td>BillPay</td><td>12948.750004905547</td><td>573</td><td>4</td><td>7</td><td>22.6</td><td>0.0122</td></tr><tr><td>Occasional</td><td>36-50</td><td>Delhi</td><td>Dining</td><td>16022.32689561621</td><td>687</td><td>4</td><td>13</td><td>23.32</td><td>0.0189</td></tr><tr><td>Occasional</td><td>26-35</td><td>Delhi</td><td>BillPay</td><td>19552.67214154624</td><td>939</td><td>4</td><td>20</td><td>20.82</td><td>0.0213</td></tr><tr><td>Regular</td><td>51+</td><td>Kolkata</td><td>Fashion</td><td>5133.3168067788865</td><td>182</td><td>4</td><td>3</td><td>28.21</td><td>0.0165</td></tr></tbody></table></div>"
      ]
     },
     "metadata": {
      "application/vnd.databricks.v1+output": {
       "addedWidgets": {},
       "aggData": [],
       "aggError": "",
       "aggOverflow": false,
       "aggSchema": [],
       "aggSeriesLimitReached": false,
       "aggType": "",
       "arguments": {},
       "columnCustomDisplayInfos": {},
       "data": [
        [
         "Occasional",
         "36-50",
         "Pune",
         "Electronics",
         7088.332805285103,
         344,
         4,
         11,
         20.61,
         0.032
        ],
        [
         "Premium",
         "36-50",
         "Chennai",
         "Pharmacy",
         14309.144757095182,
         471,
         4,
         11,
         30.38,
         0.0234
        ],
        [
         "Regular",
         "51+",
         "Mumbai",
         "Entertainment",
         11668.443589831237,
         606,
         4,
         13,
         19.25,
         0.0215
        ],
        [
         "Premium",
         "18-25",
         "Bengaluru",
         "Pharmacy",
         9860.339519188821,
         486,
         4,
         14,
         20.29,
         0.0288
        ],
        [
         "Premium",
         "26-35",
         "Bengaluru",
         "Grocery",
         19461.512148692913,
         985,
         4,
         30,
         19.76,
         0.0305
        ],
        [
         "Regular",
         "51+",
         "Pune",
         "Fuel",
         4431.864992132613,
         212,
         4,
         4,
         20.91,
         0.0189
        ],
        [
         "Regular",
         "36-50",
         "Pune",
         "BillPay",
         12948.750004905547,
         573,
         4,
         7,
         22.6,
         0.0122
        ],
        [
         "Occasional",
         "36-50",
         "Delhi",
         "Dining",
         16022.32689561621,
         687,
         4,
         13,
         23.32,
         0.0189
        ],
        [
         "Occasional",
         "26-35",
         "Delhi",
         "BillPay",
         19552.67214154624,
         939,
         4,
         20,
         20.82,
         0.0213
        ],
        [
         "Regular",
         "51+",
         "Kolkata",
         "Fashion",
         5133.3168067788865,
         182,
         4,
         3,
         28.21,
         0.0165
        ]
       ],
       "datasetInfos": [],
       "dbfsResultPath": null,
       "isJsonSchema": true,
       "metadata": {},
       "overflow": false,
       "plotOptions": {
        "customPlotOptions": {},
        "displayType": "table",
        "pivotAggregation": null,
        "pivotColumns": null,
        "xColumns": null,
        "yColumns": null
       },
       "removedWidgets": [],
       "schema": [
        {
         "metadata": "{}",
         "name": "customer_type",
         "type": "\"string\""
        },
        {
         "metadata": "{}",
         "name": "customer_age_group",
         "type": "\"string\""
        },
        {
         "metadata": "{}",
         "name": "city",
         "type": "\"string\""
        },
        {
         "metadata": "{}",
         "name": "merchant_cat",
         "type": "\"string\""
        },
        {
         "metadata": "{}",
         "name": "total_spent",
         "type": "\"double\""
        },
        {
         "metadata": "{}",
         "name": "total_transactions",
         "type": "\"long\""
        },
        {
         "metadata": "{}",
         "name": "unique_channels",
         "type": "\"long\""
        },
        {
         "metadata": "{}",
         "name": "fraud_transactions",
         "type": "\"long\""
        },
        {
         "metadata": "{}",
         "name": "avg_transaction_value",
         "type": "\"double\""
        },
        {
         "metadata": "{}",
         "name": "fraud_rate",
         "type": "\"double\""
        }
       ],
       "type": "table"
      }
     },
     "output_type": "display_data"
    }
   ],
   "source": [
    "from pyspark.sql import functions as F\n",
    "\n",
    "silver_path = \"s3://customer-seg-project/silver_delta/\"\n",
    "gold_path = \"s3://customer-seg-project/gold_delta/\"\n",
    "gold_csv_path = \"s3://customer-seg-project/exports/gold_csv/\"\n",
    "\n",
    "df_silver = spark.read.format(\"delta\").load(silver_path)\n",
    "\n",
    "# Aggregate Metrics\n",
    "df_gold = (\n",
    "    df_silver.groupBy(\"customer_type\", \"customer_age_group\", \"city\", \"merchant_cat\")\n",
    "    .agg(\n",
    "        F.sum(\"amount\").alias(\"total_spent\"),\n",
    "        F.count(\"*\").alias(\"total_transactions\"),        \n",
    "        F.countDistinct(\"channel\").alias(\"unique_channels\"),\n",
    "        F.sum(\"label_fraud\").alias(\"fraud_transactions\")\n",
    "    )\n",
    "    .withColumn(\"avg_transaction_value\", F.round(F.col(\"total_spent\") / F.col(\"total_transactions\"), 2)) \n",
    "    .withColumn(\"fraud_rate\", F.round(F.col(\"fraud_transactions\") / F.col(\"total_transactions\"), 4))\n",
    ")\n",
    "\n",
    "# Save Gold Delta\n",
    "df_gold.write.format(\"delta\").option(\"mergeSchema\", \"true\").mode(\"overwrite\").save(gold_path)\n",
    "\n",
    "# Export CSV\n",
    "df_gold.write.option(\"header\",\"true\").mode(\"overwrite\").csv(gold_csv_path)\n",
    "\n",
    "display(df_gold.limit(10))\n"
   ]
  }
 ],
 "metadata": {
  "application/vnd.databricks.v1+notebook": {
   "computePreferences": {
    "hardware": {
     "accelerator": null,
     "gpuPoolId": null,
     "memory": null
    }
   },
   "dashboards": [],
   "environmentMetadata": {
    "base_environment": "",
    "environment_version": "4"
   },
   "inputWidgetPreferences": null,
   "language": "python",
   "notebookMetadata": {
    "pythonIndentUnit": 4
   },
   "notebookName": "02_Gold_Aggregation",
   "widgets": {}
  },
  "language_info": {
   "name": "python"
  }
 },
 "nbformat": 4,
 "nbformat_minor": 0
}