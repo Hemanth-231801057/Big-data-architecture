{
 "cells": [
  {
   "cell_type": "code",
   "execution_count": 0,
   "metadata": {
    "application/vnd.databricks.v1+cell": {
     "cellMetadata": {
      "byteLimit": 2048000,
      "rowLimit": 10000
     },
     "inputWidgets": {},
     "nuid": "2ee5ac52-765f-496c-a782-caba57c88ffd",
     "showTitle": false,
     "tableResultSettingsMap": {},
     "title": ""
    }
   },
   "outputs": [
    {
     "output_type": "display_data",
     "data": {
      "text/html": [
       "<style scoped>\n",
       "  .table-result-container {\n",
       "    max-height: 300px;\n",
       "    overflow: auto;\n",
       "  }\n",
       "  table, th, td {\n",
       "    border: 1px solid black;\n",
       "    border-collapse: collapse;\n",
       "  }\n",
       "  th, td {\n",
       "    padding: 5px;\n",
       "  }\n",
       "  th {\n",
       "    text-align: left;\n",
       "  }\n",
       "</style><div class='table-result-container'><table class='table-result'><thead style='background-color: white'><tr><th>event_id</th><th>event_time</th><th>city</th><th>channel</th><th>merchant_cat</th><th>card_id</th><th>amount</th><th>is_international</th><th>is_chip</th><th>is_contactless</th><th>label_fraud</th><th>customer_age_group</th><th>customer_type</th><th>key</th></tr></thead><tbody><tr><td>51a4b773-4166-4241-a41a-1b154fa8cb27</td><td>2025-02-20T21:28:17.003Z</td><td>Bengaluru</td><td>POS</td><td>Travel</td><td>CARD-93081371</td><td>20.10772069625108</td><td>false</td><td>true</td><td>false</td><td>false</td><td>51+</td><td>Regular</td><td>Bengaluru|Travel|POS|CARD-93081371</td></tr><tr><td>79f5ffb6-dfa6-4303-9bc6-adfbf7fd71ae</td><td>2025-01-12T10:43:07.277Z</td><td>Hyderabad</td><td>Mobile</td><td>Fashion</td><td>CARD-93243358</td><td>13.305304758958258</td><td>false</td><td>true</td><td>false</td><td>false</td><td>36-50</td><td>Regular</td><td>Hyderabad|Fashion|Mobile|CARD-93243358</td></tr><tr><td>a37e9fe2-61fe-411a-8e58-1bcdb7bb292f</td><td>2025-02-14T12:22:18.012Z</td><td>Pune</td><td>POS</td><td>Dining</td><td>CARD-81433521</td><td>17.46651590665398</td><td>false</td><td>true</td><td>false</td><td>false</td><td>18-25</td><td>Premium</td><td>Pune|Dining|POS|CARD-81433521</td></tr><tr><td>6b476b16-1fcd-4da3-baea-d3096bf540b0</td><td>2025-01-29T15:14:03.452Z</td><td>Pune</td><td>ATM</td><td>Pharmacy</td><td>CARD-65919382</td><td>4.260341587544124</td><td>true</td><td>false</td><td>true</td><td>false</td><td>18-25</td><td>Occasional</td><td>Pune|Pharmacy|ATM|CARD-65919382</td></tr><tr><td>574a0089-597f-4d56-87af-0d84164f867d</td><td>2025-01-15T12:48:59.240Z</td><td>Bengaluru</td><td>ECom</td><td>Entertainment</td><td>CARD-31104788</td><td>5.005944230369062</td><td>false</td><td>true</td><td>true</td><td>false</td><td>26-35</td><td>Occasional</td><td>Bengaluru|Entertainment|ECom|CARD-31104788</td></tr><tr><td>5a4583c3-bfc7-4bde-9107-f1229835e4fc</td><td>2025-01-09T22:06:20.733Z</td><td>Bengaluru</td><td>ECom</td><td>Travel</td><td>CARD-12752623</td><td>7.46477679640081</td><td>false</td><td>true</td><td>false</td><td>false</td><td>36-50</td><td>Regular</td><td>Bengaluru|Travel|ECom|CARD-12752623</td></tr><tr><td>ea918b72-a379-4be2-8cd1-e76323857a3b</td><td>2025-01-05T16:07:51.495Z</td><td>Kolkata</td><td>ECom</td><td>Pharmacy</td><td>CARD-33323037</td><td>40.4863280428366</td><td>false</td><td>false</td><td>true</td><td>false</td><td>26-35</td><td>Regular</td><td>Kolkata|Pharmacy|ECom|CARD-33323037</td></tr><tr><td>7d4ee06b-6e44-406f-b2cf-d8c649069ddc</td><td>2025-02-10T19:12:45.562Z</td><td>Chennai</td><td>ATM</td><td>Dining</td><td>CARD-41090558</td><td>6.279995434072502</td><td>false</td><td>true</td><td>true</td><td>false</td><td>26-35</td><td>Premium</td><td>Chennai|Dining|ATM|CARD-41090558</td></tr><tr><td>944f0cce-33ea-4514-934c-90aa907fec2d</td><td>2025-01-21T06:08:51.486Z</td><td>Bengaluru</td><td>ECom</td><td>Grocery</td><td>CARD-21758952</td><td>1.706596027879325</td><td>true</td><td>true</td><td>false</td><td>false</td><td>26-35</td><td>Occasional</td><td>Bengaluru|Grocery|ECom|CARD-21758952</td></tr><tr><td>145bca1a-723a-4e1c-9626-c489758ecb95</td><td>2025-01-24T04:57:00.279Z</td><td>Bengaluru</td><td>ECom</td><td>BillPay</td><td>CARD-74964980</td><td>0.14644324783054083</td><td>false</td><td>false</td><td>true</td><td>false</td><td>26-35</td><td>Regular</td><td>Bengaluru|BillPay|ECom|CARD-74964980</td></tr></tbody></table></div>"
      ]
     },
     "metadata": {
      "application/vnd.databricks.v1+output": {
       "addedWidgets": {},
       "aggData": [],
       "aggError": "",
       "aggOverflow": false,
       "aggSchema": [],
       "aggSeriesLimitReached": false,
       "aggType": "",
       "arguments": {},
       "columnCustomDisplayInfos": {},
       "data": [
        [
         "51a4b773-4166-4241-a41a-1b154fa8cb27",
         "2025-02-20T21:28:17.003Z",
         "Bengaluru",
         "POS",
         "Travel",
         "CARD-93081371",
         20.10772069625108,
         false,
         true,
         false,
         false,
         "51+",
         "Regular",
         "Bengaluru|Travel|POS|CARD-93081371"
        ],
        [
         "79f5ffb6-dfa6-4303-9bc6-adfbf7fd71ae",
         "2025-01-12T10:43:07.277Z",
         "Hyderabad",
         "Mobile",
         "Fashion",
         "CARD-93243358",
         13.305304758958258,
         false,
         true,
         false,
         false,
         "36-50",
         "Regular",
         "Hyderabad|Fashion|Mobile|CARD-93243358"
        ],
        [
         "a37e9fe2-61fe-411a-8e58-1bcdb7bb292f",
         "2025-02-14T12:22:18.012Z",
         "Pune",
         "POS",
         "Dining",
         "CARD-81433521",
         17.46651590665398,
         false,
         true,
         false,
         false,
         "18-25",
         "Premium",
         "Pune|Dining|POS|CARD-81433521"
        ],
        [
         "6b476b16-1fcd-4da3-baea-d3096bf540b0",
         "2025-01-29T15:14:03.452Z",
         "Pune",
         "ATM",
         "Pharmacy",
         "CARD-65919382",
         4.260341587544124,
         true,
         false,
         true,
         false,
         "18-25",
         "Occasional",
         "Pune|Pharmacy|ATM|CARD-65919382"
        ],
        [
         "574a0089-597f-4d56-87af-0d84164f867d",
         "2025-01-15T12:48:59.240Z",
         "Bengaluru",
         "ECom",
         "Entertainment",
         "CARD-31104788",
         5.005944230369062,
         false,
         true,
         true,
         false,
         "26-35",
         "Occasional",
         "Bengaluru|Entertainment|ECom|CARD-31104788"
        ],
        [
         "5a4583c3-bfc7-4bde-9107-f1229835e4fc",
         "2025-01-09T22:06:20.733Z",
         "Bengaluru",
         "ECom",
         "Travel",
         "CARD-12752623",
         7.46477679640081,
         false,
         true,
         false,
         false,
         "36-50",
         "Regular",
         "Bengaluru|Travel|ECom|CARD-12752623"
        ],
        [
         "ea918b72-a379-4be2-8cd1-e76323857a3b",
         "2025-01-05T16:07:51.495Z",
         "Kolkata",
         "ECom",
         "Pharmacy",
         "CARD-33323037",
         40.4863280428366,
         false,
         false,
         true,
         false,
         "26-35",
         "Regular",
         "Kolkata|Pharmacy|ECom|CARD-33323037"
        ],
        [
         "7d4ee06b-6e44-406f-b2cf-d8c649069ddc",
         "2025-02-10T19:12:45.562Z",
         "Chennai",
         "ATM",
         "Dining",
         "CARD-41090558",
         6.279995434072502,
         false,
         true,
         true,
         false,
         "26-35",
         "Premium",
         "Chennai|Dining|ATM|CARD-41090558"
        ],
        [
         "944f0cce-33ea-4514-934c-90aa907fec2d",
         "2025-01-21T06:08:51.486Z",
         "Bengaluru",
         "ECom",
         "Grocery",
         "CARD-21758952",
         1.706596027879325,
         true,
         true,
         false,
         false,
         "26-35",
         "Occasional",
         "Bengaluru|Grocery|ECom|CARD-21758952"
        ],
        [
         "145bca1a-723a-4e1c-9626-c489758ecb95",
         "2025-01-24T04:57:00.279Z",
         "Bengaluru",
         "ECom",
         "BillPay",
         "CARD-74964980",
         0.14644324783054083,
         false,
         false,
         true,
         false,
         "26-35",
         "Regular",
         "Bengaluru|BillPay|ECom|CARD-74964980"
        ]
       ],
       "datasetInfos": [],
       "dbfsResultPath": null,
       "isJsonSchema": true,
       "metadata": {},
       "overflow": false,
       "plotOptions": {
        "customPlotOptions": {},
        "displayType": "table",
        "pivotAggregation": null,
        "pivotColumns": null,
        "xColumns": null,
        "yColumns": null
       },
       "removedWidgets": [],
       "schema": [
        {
         "metadata": "{}",
         "name": "event_id",
         "type": "\"string\""
        },
        {
         "metadata": "{}",
         "name": "event_time",
         "type": "\"timestamp\""
        },
        {
         "metadata": "{}",
         "name": "city",
         "type": "\"string\""
        },
        {
         "metadata": "{}",
         "name": "channel",
         "type": "\"string\""
        },
        {
         "metadata": "{}",
         "name": "merchant_cat",
         "type": "\"string\""
        },
        {
         "metadata": "{}",
         "name": "card_id",
         "type": "\"string\""
        },
        {
         "metadata": "{}",
         "name": "amount",
         "type": "\"double\""
        },
        {
         "metadata": "{}",
         "name": "is_international",
         "type": "\"boolean\""
        },
        {
         "metadata": "{}",
         "name": "is_chip",
         "type": "\"boolean\""
        },
        {
         "metadata": "{}",
         "name": "is_contactless",
         "type": "\"boolean\""
        },
        {
         "metadata": "{}",
         "name": "label_fraud",
         "type": "\"boolean\""
        },
        {
         "metadata": "{}",
         "name": "customer_age_group",
         "type": "\"string\""
        },
        {
         "metadata": "{}",
         "name": "customer_type",
         "type": "\"string\""
        },
        {
         "metadata": "{}",
         "name": "key",
         "type": "\"string\""
        }
       ],
       "type": "table"
      }
     },
     "output_type": "display_data"
    }
   ],
   "source": [
    "from pyspark.sql.functions import to_timestamp\n",
    "\n",
    "# ---- Paths ----\n",
    "raw_path = \"s3://customer-seg-project/data.csv\"\n",
    "bronze_path = \"s3://customer-seg-project/bronze/\"\n",
    "bronze_csv_path = \"s3://customer-seg-project/exports/bronze_csv/\"\n",
    "\n",
    "# ---- Load raw CSV with inferred schema ----\n",
    "df_bronze = (\n",
    "    spark.read.format(\"csv\")\n",
    "    .option(\"header\", \"true\")\n",
    "    .option(\"inferSchema\", \"true\")\n",
    "    .load(raw_path)\n",
    ")\n",
    "\n",
    "# ---- Convert event_time to timestamp ----\n",
    "df_bronze = df_bronze.withColumn(\"event_time\", to_timestamp(\"event_time\"))\n",
    "\n",
    "# ---- Save Bronze as Parquet ----\n",
    "df_bronze.write.format(\"parquet\").mode(\"overwrite\").save(bronze_path)\n",
    "\n",
    "# ---- Export CSV for validation/dashboard ----\n",
    "df_bronze.write.option(\"header\", \"true\").mode(\"overwrite\").csv(bronze_csv_path)\n",
    "\n",
    "display(df_bronze.limit(10))\n"
   ]
  }
 ],
 "metadata": {
  "application/vnd.databricks.v1+notebook": {
   "computePreferences": null,
   "dashboards": [],
   "environmentMetadata": {
    "base_environment": "",
    "environment_version": "4"
   },
   "inputWidgetPreferences": null,
   "language": "python",
   "notebookMetadata": {
    "pythonIndentUnit": 4
   },
   "notebookName": "00 Data injection",
   "widgets": {}
  },
  "language_info": {
   "name": "python"
  }
 },
 "nbformat": 4,
 "nbformat_minor": 0
}