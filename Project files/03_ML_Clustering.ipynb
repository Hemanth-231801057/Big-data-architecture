{
 "cells": [
  {
   "cell_type": "code",
   "execution_count": 0,
   "metadata": {
    "application/vnd.databricks.v1+cell": {
     "cellMetadata": {
      "byteLimit": 2048000,
      "rowLimit": 10000
     },
     "inputWidgets": {},
     "nuid": "b059428b-a46c-4591-8bb7-dff8133600f7",
     "showTitle": false,
     "tableResultSettingsMap": {
      "0": {
       "dataGridStateBlob": "{\"version\":1,\"tableState\":{\"columnPinning\":{\"left\":[\"#row_number#\"],\"right\":[]},\"columnSizing\":{},\"columnVisibility\":{}},\"settings\":{\"columns\":{}},\"syncTimestamp\":1760617275404}",
       "filterBlob": null,
       "queryPlanFiltersBlob": null,
       "tableResultIndex": 0
      }
     },
     "title": ""
    }
   },
   "outputs": [
    {
     "output_type": "display_data",
     "data": {
      "text/html": [
       "<style scoped>\n",
       "  .table-result-container {\n",
       "    max-height: 300px;\n",
       "    overflow: auto;\n",
       "  }\n",
       "  table, th, td {\n",
       "    border: 1px solid black;\n",
       "    border-collapse: collapse;\n",
       "  }\n",
       "  th, td {\n",
       "    padding: 5px;\n",
       "  }\n",
       "  th {\n",
       "    text-align: left;\n",
       "  }\n",
       "</style><div class='table-result-container'><table class='table-result'><thead style='background-color: white'><tr><th>customer_type</th><th>customer_age_group</th><th>city</th><th>merchant_cat</th><th>total_spent</th><th>total_transactions</th><th>unique_channels</th><th>fraud_transactions</th><th>avg_transaction_value</th><th>fraud_rate</th><th>features</th><th>customer_segment</th></tr></thead><tbody><tr><td>Occasional</td><td>36-50</td><td>Pune</td><td>Electronics</td><td>7088.332805285103</td><td>344</td><td>4</td><td>11</td><td>20.61</td><td>0.032</td><td>{\"type\":\"1\",\"size\":null,\"indices\":null,\"values\":[\"0.622915023075894\",\"6.530251160213636\",\"4.572554997077528\",\"0.6918043459777511\",\"0.0\"]}</td><td>0</td></tr><tr><td>Premium</td><td>36-50</td><td>Chennai</td><td>Pharmacy</td><td>14309.144757095182</td><td>471</td><td>4</td><td>11</td><td>30.38</td><td>0.0234</td><td>{\"type\":\"1\",\"size\":null,\"indices\":null,\"values\":[\"1.2574721703129377\",\"9.625862700014084\",\"3.3436808416129424\",\"0.9472088574288394\",\"0.0\"]}</td><td>3</td></tr><tr><td>Regular</td><td>51+</td><td>Mumbai</td><td>Entertainment</td><td>11668.443589831237</td><td>606</td><td>4</td><td>13</td><td>19.25</td><td>0.0215</td><td>{\"type\":\"1\",\"size\":null,\"indices\":null,\"values\":[\"1.0254102068401885\",\"6.099336964294639\",\"3.072185388661464\",\"1.2187018420422011\",\"0.0\"]}</td><td>0</td></tr><tr><td>Premium</td><td>18-25</td><td>Bengaluru</td><td>Pharmacy</td><td>9860.339519188821</td><td>486</td><td>4</td><td>14</td><td>20.29</td><td>0.0288</td><td>{\"type\":\"1\",\"size\":null,\"indices\":null,\"values\":[\"0.8665159760207686\",\"6.428859584703283\",\"4.115299497369775\",\"0.9773747446081018\",\"0.0\"]}</td><td>0</td></tr><tr><td>Premium</td><td>26-35</td><td>Bengaluru</td><td>Grocery</td><td>19461.512148692913</td><td>985</td><td>4</td><td>30</td><td>19.76</td><td>0.0305</td><td>{\"type\":\"1\",\"size\":null,\"indices\":null,\"values\":[\"1.7102566459853512\",\"6.260929787764264\",\"4.358216481589519\",\"1.9808932581048977\",\"0.0\"]}</td><td>0</td></tr><tr><td>Regular</td><td>51+</td><td>Pune</td><td>Fuel</td><td>4431.864992132613</td><td>212</td><td>4</td><td>4</td><td>20.91</td><td>0.0189</td><td>{\"type\":\"1\",\"size\":null,\"indices\":null,\"values\":[\"0.3894675038092395\",\"6.625305762254592\",\"2.700665295148915\",\"0.4263445388002419\",\"0.0\"]}</td><td>2</td></tr><tr><td>Regular</td><td>36-50</td><td>Pune</td><td>BillPay</td><td>12948.750004905547</td><td>573</td><td>4</td><td>7</td><td>22.6</td><td>0.0122</td><td>{\"type\":\"1\",\"size\":null,\"indices\":null,\"values\":[\"1.137922150339172\",\"7.160780020418641\",\"1.7432865926358077\",\"1.1523368902478237\",\"0.0\"]}</td><td>2</td></tr><tr><td>Occasional</td><td>36-50</td><td>Delhi</td><td>Dining</td><td>16022.32689561621</td><td>687</td><td>4</td><td>13</td><td>23.32</td><td>0.0189</td><td>{\"type\":\"1\",\"size\":null,\"indices\":null,\"values\":[\"1.4080247643664152\",\"7.388911065316933\",\"2.700665295148915\",\"1.381597632810218\",\"0.0\"]}</td><td>3</td></tr><tr><td>Occasional</td><td>26-35</td><td>Delhi</td><td>BillPay</td><td>19552.67214154624</td><td>939</td><td>4</td><td>20</td><td>20.82</td><td>0.0213</td><td>{\"type\":\"1\",\"size\":null,\"indices\":null,\"values\":[\"1.7182676875957974\",\"6.5967893816423055\",\"3.0436069199297298\",\"1.8883845374218262\",\"0.0\"]}</td><td>0</td></tr><tr><td>Regular</td><td>51+</td><td>Kolkata</td><td>Fashion</td><td>5133.3168067788865</td><td>182</td><td>4</td><td>3</td><td>28.21</td><td>0.0165</td><td>{\"type\":\"1\",\"size\":null,\"indices\":null,\"values\":[\"0.45111033087588376\",\"8.938301078584507\",\"2.3577236703681006\",\"0.36601276444171715\",\"0.0\"]}</td><td>3</td></tr></tbody></table></div>"
      ]
     },
     "metadata": {
      "application/vnd.databricks.v1+output": {
       "addedWidgets": {},
       "aggData": [],
       "aggError": "",
       "aggOverflow": false,
       "aggSchema": [],
       "aggSeriesLimitReached": false,
       "aggType": "",
       "arguments": {},
       "columnCustomDisplayInfos": {},
       "data": [
        [
         "Occasional",
         "36-50",
         "Pune",
         "Electronics",
         7088.332805285103,
         344,
         4,
         11,
         20.61,
         0.032,
         "{\"type\":\"1\",\"size\":null,\"indices\":null,\"values\":[\"0.622915023075894\",\"6.530251160213636\",\"4.572554997077528\",\"0.6918043459777511\",\"0.0\"]}",
         0
        ],
        [
         "Premium",
         "36-50",
         "Chennai",
         "Pharmacy",
         14309.144757095182,
         471,
         4,
         11,
         30.38,
         0.0234,
         "{\"type\":\"1\",\"size\":null,\"indices\":null,\"values\":[\"1.2574721703129377\",\"9.625862700014084\",\"3.3436808416129424\",\"0.9472088574288394\",\"0.0\"]}",
         3
        ],
        [
         "Regular",
         "51+",
         "Mumbai",
         "Entertainment",
         11668.443589831237,
         606,
         4,
         13,
         19.25,
         0.0215,
         "{\"type\":\"1\",\"size\":null,\"indices\":null,\"values\":[\"1.0254102068401885\",\"6.099336964294639\",\"3.072185388661464\",\"1.2187018420422011\",\"0.0\"]}",
         0
        ],
        [
         "Premium",
         "18-25",
         "Bengaluru",
         "Pharmacy",
         9860.339519188821,
         486,
         4,
         14,
         20.29,
         0.0288,
         "{\"type\":\"1\",\"size\":null,\"indices\":null,\"values\":[\"0.8665159760207686\",\"6.428859584703283\",\"4.115299497369775\",\"0.9773747446081018\",\"0.0\"]}",
         0
        ],
        [
         "Premium",
         "26-35",
         "Bengaluru",
         "Grocery",
         19461.512148692913,
         985,
         4,
         30,
         19.76,
         0.0305,
         "{\"type\":\"1\",\"size\":null,\"indices\":null,\"values\":[\"1.7102566459853512\",\"6.260929787764264\",\"4.358216481589519\",\"1.9808932581048977\",\"0.0\"]}",
         0
        ],
        [
         "Regular",
         "51+",
         "Pune",
         "Fuel",
         4431.864992132613,
         212,
         4,
         4,
         20.91,
         0.0189,
         "{\"type\":\"1\",\"size\":null,\"indices\":null,\"values\":[\"0.3894675038092395\",\"6.625305762254592\",\"2.700665295148915\",\"0.4263445388002419\",\"0.0\"]}",
         2
        ],
        [
         "Regular",
         "36-50",
         "Pune",
         "BillPay",
         12948.750004905547,
         573,
         4,
         7,
         22.6,
         0.0122,
         "{\"type\":\"1\",\"size\":null,\"indices\":null,\"values\":[\"1.137922150339172\",\"7.160780020418641\",\"1.7432865926358077\",\"1.1523368902478237\",\"0.0\"]}",
         2
        ],
        [
         "Occasional",
         "36-50",
         "Delhi",
         "Dining",
         16022.32689561621,
         687,
         4,
         13,
         23.32,
         0.0189,
         "{\"type\":\"1\",\"size\":null,\"indices\":null,\"values\":[\"1.4080247643664152\",\"7.388911065316933\",\"2.700665295148915\",\"1.381597632810218\",\"0.0\"]}",
         3
        ],
        [
         "Occasional",
         "26-35",
         "Delhi",
         "BillPay",
         19552.67214154624,
         939,
         4,
         20,
         20.82,
         0.0213,
         "{\"type\":\"1\",\"size\":null,\"indices\":null,\"values\":[\"1.7182676875957974\",\"6.5967893816423055\",\"3.0436069199297298\",\"1.8883845374218262\",\"0.0\"]}",
         0
        ],
        [
         "Regular",
         "51+",
         "Kolkata",
         "Fashion",
         5133.3168067788865,
         182,
         4,
         3,
         28.21,
         0.0165,
         "{\"type\":\"1\",\"size\":null,\"indices\":null,\"values\":[\"0.45111033087588376\",\"8.938301078584507\",\"2.3577236703681006\",\"0.36601276444171715\",\"0.0\"]}",
         3
        ]
       ],
       "datasetInfos": [],
       "dbfsResultPath": null,
       "isJsonSchema": true,
       "metadata": {},
       "overflow": false,
       "plotOptions": {
        "customPlotOptions": {},
        "displayType": "table",
        "pivotAggregation": null,
        "pivotColumns": null,
        "xColumns": null,
        "yColumns": null
       },
       "removedWidgets": [],
       "schema": [
        {
         "metadata": "{}",
         "name": "customer_type",
         "type": "\"string\""
        },
        {
         "metadata": "{}",
         "name": "customer_age_group",
         "type": "\"string\""
        },
        {
         "metadata": "{}",
         "name": "city",
         "type": "\"string\""
        },
        {
         "metadata": "{}",
         "name": "merchant_cat",
         "type": "\"string\""
        },
        {
         "metadata": "{}",
         "name": "total_spent",
         "type": "\"double\""
        },
        {
         "metadata": "{}",
         "name": "total_transactions",
         "type": "\"long\""
        },
        {
         "metadata": "{}",
         "name": "unique_channels",
         "type": "\"long\""
        },
        {
         "metadata": "{}",
         "name": "fraud_transactions",
         "type": "\"long\""
        },
        {
         "metadata": "{}",
         "name": "avg_transaction_value",
         "type": "\"double\""
        },
        {
         "metadata": "{}",
         "name": "fraud_rate",
         "type": "\"double\""
        },
        {
         "metadata": "{\"ml_attr\": {\"num_attrs\": 5}}",
         "name": "features",
         "type": "{\"class\":\"org.apache.spark.ml.linalg.VectorUDT\",\"pyClass\":\"pyspark.ml.linalg.VectorUDT\",\"sqlType\":{\"fields\":[{\"metadata\":{},\"name\":\"type\",\"nullable\":false,\"type\":\"byte\"},{\"metadata\":{},\"name\":\"size\",\"nullable\":true,\"type\":\"integer\"},{\"metadata\":{},\"name\":\"indices\",\"nullable\":true,\"type\":{\"containsNull\":false,\"elementType\":\"integer\",\"type\":\"array\"}},{\"metadata\":{},\"name\":\"values\",\"nullable\":true,\"type\":{\"containsNull\":false,\"elementType\":\"double\",\"type\":\"array\"}}],\"type\":\"struct\"},\"type\":\"udt\"}"
        },
        {
         "metadata": "{\"ml_attr\": {\"num_vals\": 4, \"type\": \"nominal\"}}",
         "name": "customer_segment",
         "type": "\"integer\""
        }
       ],
       "type": "table"
      }
     },
     "output_type": "display_data"
    }
   ],
   "source": [
    "from pyspark.ml.feature import VectorAssembler, StandardScaler\n",
    "from pyspark.ml.clustering import KMeans\n",
    "\n",
    "gold_path = \"s3://customer-seg-project/gold_delta/\"\n",
    "df_gold = spark.read.format(\"delta\").load(gold_path)\n",
    "\n",
    "numeric_cols = [\n",
    "    \"total_spent\",\n",
    "    \"avg_transaction_value\",\n",
    "    \"fraud_rate\",\n",
    "    \"total_transactions\",\n",
    "    \"unique_channels\"\n",
    "]\n",
    "df_ml = df_gold.na.fill({c: 0 for c in numeric_cols})\n",
    "\n",
    "feature_cols = [\n",
    "    \"total_spent\",\n",
    "    \"avg_transaction_value\",\n",
    "    \"fraud_rate\",\n",
    "    \"total_transactions\",\n",
    "    \"unique_channels\"\n",
    "]\n",
    "assembler = VectorAssembler(\n",
    "    inputCols=feature_cols,\n",
    "    outputCol=\"features_raw\"\n",
    ")\n",
    "df_vector = assembler.transform(df_ml)\n",
    "\n",
    "scaler = StandardScaler(\n",
    "    inputCol=\"features_raw\",\n",
    "    outputCol=\"features\",\n",
    "    withStd=True,\n",
    "    withMean=False\n",
    ")\n",
    "scaler_model = scaler.fit(df_vector)\n",
    "df_scaled = scaler_model.transform(df_vector)\n",
    "\n",
    "kmeans = KMeans(\n",
    "    featuresCol=\"features\",\n",
    "    predictionCol=\"customer_segment\",\n",
    "    k=4,\n",
    "    seed=42\n",
    ")\n",
    "model = kmeans.fit(df_scaled)\n",
    "df_clusters = model.transform(df_scaled)\n",
    "\n",
    "columns_to_keep = df_gold.columns + [\"features\", \"customer_segment\"]\n",
    "df_clusters = df_clusters.select(*columns_to_keep)\n",
    "\n",
    "df_clusters.write.format(\"delta\") \\\n",
    "    .mode(\"overwrite\") \\\n",
    "    .saveAsTable(\"`final-dataset`\")\n",
    "\n",
    "display(df_clusters.limit(10))"
   ]
  }
 ],
 "metadata": {
  "application/vnd.databricks.v1+notebook": {
   "computePreferences": null,
   "dashboards": [],
   "environmentMetadata": {
    "base_environment": "",
    "environment_version": "4"
   },
   "inputWidgetPreferences": null,
   "language": "python",
   "notebookMetadata": {
    "pythonIndentUnit": 4
   },
   "notebookName": "03_ML_Clustering",
   "widgets": {}
  },
  "language_info": {
   "name": "python"
  }
 },
 "nbformat": 4,
 "nbformat_minor": 0
}