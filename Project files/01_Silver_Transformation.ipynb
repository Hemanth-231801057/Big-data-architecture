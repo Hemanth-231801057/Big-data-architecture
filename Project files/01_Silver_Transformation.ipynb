{
 "cells": [
  {
   "cell_type": "code",
   "execution_count": 0,
   "metadata": {
    "application/vnd.databricks.v1+cell": {
     "cellMetadata": {
      "byteLimit": 2048000,
      "rowLimit": 10000
     },
     "inputWidgets": {},
     "nuid": "57ad2a43-b198-4bd4-ab78-dc026c9dc90d",
     "showTitle": false,
     "tableResultSettingsMap": {},
     "title": ""
    }
   },
   "outputs": [
    {
     "output_type": "display_data",
     "data": {
      "text/html": [
       "<style scoped>\n",
       "  .table-result-container {\n",
       "    max-height: 300px;\n",
       "    overflow: auto;\n",
       "  }\n",
       "  table, th, td {\n",
       "    border: 1px solid black;\n",
       "    border-collapse: collapse;\n",
       "  }\n",
       "  th, td {\n",
       "    padding: 5px;\n",
       "  }\n",
       "  th {\n",
       "    text-align: left;\n",
       "  }\n",
       "</style><div class='table-result-container'><table class='table-result'><thead style='background-color: white'><tr><th>event_id</th><th>event_time</th><th>city</th><th>channel</th><th>merchant_cat</th><th>card_id</th><th>amount</th><th>is_international</th><th>is_chip</th><th>is_contactless</th><th>label_fraud</th><th>customer_age_group</th><th>customer_type</th><th>key</th></tr></thead><tbody><tr><td>c344b966-863c-4fa9-b8b4-f9a09670f912</td><td>2025-02-17T22:22:32.038Z</td><td>Hyderabad</td><td>POS</td><td>Pharmacy</td><td>CARD-20242172</td><td>37.0591067428691</td><td>0</td><td>1</td><td>0</td><td>0</td><td>26-35</td><td>Regular</td><td>Hyderabad|Pharmacy|POS|CARD-20242172</td></tr><tr><td>a6b54e2e-45bb-4582-ab08-bac2836b7553</td><td>2025-01-22T03:06:19.126Z</td><td>Mumbai</td><td>ECom</td><td>Grocery</td><td>CARD-48810182</td><td>1.4939954025967166</td><td>0</td><td>0</td><td>1</td><td>0</td><td>26-35</td><td>Premium</td><td>Mumbai|Grocery|ECom|CARD-48810182</td></tr><tr><td>b1563ece-9c17-4011-836c-cc45d3d44a11</td><td>2025-02-14T14:41:56.097Z</td><td>Bengaluru</td><td>POS</td><td>Grocery</td><td>CARD-00430808</td><td>38.87808966108312</td><td>0</td><td>0</td><td>0</td><td>0</td><td>26-35</td><td>Regular</td><td>Bengaluru|Grocery|POS|CARD-00430808</td></tr><tr><td>bfb557b9-68b9-449b-810a-83b92bb8509b</td><td>2025-01-06T10:11:36.013Z</td><td>Chennai</td><td>ECom</td><td>BillPay</td><td>CARD-89785952</td><td>1.510066339377056</td><td>0</td><td>1</td><td>0</td><td>0</td><td>26-35</td><td>Occasional</td><td>Chennai|BillPay|ECom|CARD-89785952</td></tr><tr><td>e461c6c2-a3dc-4ac8-80f6-22f5d064eec1</td><td>2025-01-10T05:20:03.917Z</td><td>Bengaluru</td><td>POS</td><td>Dining</td><td>CARD-79336287</td><td>4.38135980294852</td><td>0</td><td>1</td><td>1</td><td>0</td><td>26-35</td><td>Regular</td><td>Bengaluru|Dining|POS|CARD-79336287</td></tr><tr><td>0016f7ed-7735-41c4-968f-3a7ba5db9710</td><td>2025-02-01T04:53:37.188Z</td><td>Delhi</td><td>ATM</td><td>Pharmacy</td><td>CARD-36952056</td><td>42.79731810752476</td><td>0</td><td>1</td><td>1</td><td>0</td><td>36-50</td><td>Occasional</td><td>Delhi|Pharmacy|ATM|CARD-36952056</td></tr><tr><td>5f48a9b2-da12-4ec7-908c-c17b0d4f2f31</td><td>2025-01-17T14:43:26.690Z</td><td>Chennai</td><td>ECom</td><td>Entertainment</td><td>CARD-86285043</td><td>5.346788055811756</td><td>0</td><td>1</td><td>0</td><td>0</td><td>18-25</td><td>Regular</td><td>Chennai|Entertainment|ECom|CARD-86285043</td></tr><tr><td>28b268a0-5c53-43bf-8e48-6dd2472dc070</td><td>2025-01-20T13:42:47.472Z</td><td>Hyderabad</td><td>Mobile</td><td>Entertainment</td><td>CARD-59487284</td><td>42.22887903168006</td><td>0</td><td>0</td><td>1</td><td>0</td><td>18-25</td><td>Occasional</td><td>Hyderabad|Entertainment|Mobile|CARD-59487284</td></tr><tr><td>99c18104-99a2-49d8-ad2b-7735e6ff6e7b</td><td>2025-02-24T08:24:59.414Z</td><td>Mumbai</td><td>POS</td><td>Electronics</td><td>CARD-59426022</td><td>29.60361843508756</td><td>1</td><td>1</td><td>0</td><td>0</td><td>26-35</td><td>Premium</td><td>Mumbai|Electronics|POS|CARD-59426022</td></tr><tr><td>44b81a87-b8a3-44fe-b2ed-73eb498a93f3</td><td>2025-02-14T22:53:37.620Z</td><td>Chennai</td><td>ECom</td><td>Grocery</td><td>CARD-10782201</td><td>2.0139124825944235</td><td>0</td><td>1</td><td>1</td><td>0</td><td>18-25</td><td>Occasional</td><td>Chennai|Grocery|ECom|CARD-10782201</td></tr></tbody></table></div>"
      ]
     },
     "metadata": {
      "application/vnd.databricks.v1+output": {
       "addedWidgets": {},
       "aggData": [],
       "aggError": "",
       "aggOverflow": false,
       "aggSchema": [],
       "aggSeriesLimitReached": false,
       "aggType": "",
       "arguments": {},
       "columnCustomDisplayInfos": {},
       "data": [
        [
         "c344b966-863c-4fa9-b8b4-f9a09670f912",
         "2025-02-17T22:22:32.038Z",
         "Hyderabad",
         "POS",
         "Pharmacy",
         "CARD-20242172",
         37.0591067428691,
         0,
         1,
         0,
         0,
         "26-35",
         "Regular",
         "Hyderabad|Pharmacy|POS|CARD-20242172"
        ],
        [
         "a6b54e2e-45bb-4582-ab08-bac2836b7553",
         "2025-01-22T03:06:19.126Z",
         "Mumbai",
         "ECom",
         "Grocery",
         "CARD-48810182",
         1.4939954025967166,
         0,
         0,
         1,
         0,
         "26-35",
         "Premium",
         "Mumbai|Grocery|ECom|CARD-48810182"
        ],
        [
         "b1563ece-9c17-4011-836c-cc45d3d44a11",
         "2025-02-14T14:41:56.097Z",
         "Bengaluru",
         "POS",
         "Grocery",
         "CARD-00430808",
         38.87808966108312,
         0,
         0,
         0,
         0,
         "26-35",
         "Regular",
         "Bengaluru|Grocery|POS|CARD-00430808"
        ],
        [
         "bfb557b9-68b9-449b-810a-83b92bb8509b",
         "2025-01-06T10:11:36.013Z",
         "Chennai",
         "ECom",
         "BillPay",
         "CARD-89785952",
         1.510066339377056,
         0,
         1,
         0,
         0,
         "26-35",
         "Occasional",
         "Chennai|BillPay|ECom|CARD-89785952"
        ],
        [
         "e461c6c2-a3dc-4ac8-80f6-22f5d064eec1",
         "2025-01-10T05:20:03.917Z",
         "Bengaluru",
         "POS",
         "Dining",
         "CARD-79336287",
         4.38135980294852,
         0,
         1,
         1,
         0,
         "26-35",
         "Regular",
         "Bengaluru|Dining|POS|CARD-79336287"
        ],
        [
         "0016f7ed-7735-41c4-968f-3a7ba5db9710",
         "2025-02-01T04:53:37.188Z",
         "Delhi",
         "ATM",
         "Pharmacy",
         "CARD-36952056",
         42.79731810752476,
         0,
         1,
         1,
         0,
         "36-50",
         "Occasional",
         "Delhi|Pharmacy|ATM|CARD-36952056"
        ],
        [
         "5f48a9b2-da12-4ec7-908c-c17b0d4f2f31",
         "2025-01-17T14:43:26.690Z",
         "Chennai",
         "ECom",
         "Entertainment",
         "CARD-86285043",
         5.346788055811756,
         0,
         1,
         0,
         0,
         "18-25",
         "Regular",
         "Chennai|Entertainment|ECom|CARD-86285043"
        ],
        [
         "28b268a0-5c53-43bf-8e48-6dd2472dc070",
         "2025-01-20T13:42:47.472Z",
         "Hyderabad",
         "Mobile",
         "Entertainment",
         "CARD-59487284",
         42.22887903168006,
         0,
         0,
         1,
         0,
         "18-25",
         "Occasional",
         "Hyderabad|Entertainment|Mobile|CARD-59487284"
        ],
        [
         "99c18104-99a2-49d8-ad2b-7735e6ff6e7b",
         "2025-02-24T08:24:59.414Z",
         "Mumbai",
         "POS",
         "Electronics",
         "CARD-59426022",
         29.60361843508756,
         1,
         1,
         0,
         0,
         "26-35",
         "Premium",
         "Mumbai|Electronics|POS|CARD-59426022"
        ],
        [
         "44b81a87-b8a3-44fe-b2ed-73eb498a93f3",
         "2025-02-14T22:53:37.620Z",
         "Chennai",
         "ECom",
         "Grocery",
         "CARD-10782201",
         2.0139124825944235,
         0,
         1,
         1,
         0,
         "18-25",
         "Occasional",
         "Chennai|Grocery|ECom|CARD-10782201"
        ]
       ],
       "datasetInfos": [],
       "dbfsResultPath": null,
       "isJsonSchema": true,
       "metadata": {},
       "overflow": false,
       "plotOptions": {
        "customPlotOptions": {},
        "displayType": "table",
        "pivotAggregation": null,
        "pivotColumns": null,
        "xColumns": null,
        "yColumns": null
       },
       "removedWidgets": [],
       "schema": [
        {
         "metadata": "{}",
         "name": "event_id",
         "type": "\"string\""
        },
        {
         "metadata": "{}",
         "name": "event_time",
         "type": "\"timestamp\""
        },
        {
         "metadata": "{}",
         "name": "city",
         "type": "\"string\""
        },
        {
         "metadata": "{}",
         "name": "channel",
         "type": "\"string\""
        },
        {
         "metadata": "{}",
         "name": "merchant_cat",
         "type": "\"string\""
        },
        {
         "metadata": "{}",
         "name": "card_id",
         "type": "\"string\""
        },
        {
         "metadata": "{}",
         "name": "amount",
         "type": "\"double\""
        },
        {
         "metadata": "{}",
         "name": "is_international",
         "type": "\"integer\""
        },
        {
         "metadata": "{}",
         "name": "is_chip",
         "type": "\"integer\""
        },
        {
         "metadata": "{}",
         "name": "is_contactless",
         "type": "\"integer\""
        },
        {
         "metadata": "{}",
         "name": "label_fraud",
         "type": "\"integer\""
        },
        {
         "metadata": "{}",
         "name": "customer_age_group",
         "type": "\"string\""
        },
        {
         "metadata": "{}",
         "name": "customer_type",
         "type": "\"string\""
        },
        {
         "metadata": "{}",
         "name": "key",
         "type": "\"string\""
        }
       ],
       "type": "table"
      }
     },
     "output_type": "display_data"
    }
   ],
   "source": [
    "from pyspark.sql import functions as F\n",
    "from pyspark.sql.functions import when, col, regexp_replace\n",
    "\n",
    "# Paths\n",
    "bronze_path = \"s3://customer-seg-project/bronze/\"\n",
    "silver_path = \"s3://customer-seg-project/silver_delta/\"\n",
    "silver_csv_path = \"s3://customer-seg-project/exports/silver_csv/\"\n",
    "\n",
    "# Load Bronze Parquet\n",
    "df_bronze = spark.read.format(\"parquet\").load(bronze_path)\n",
    "\n",
    "# Transform Data\n",
    "def bool_to_int(column):\n",
    "    return when(col(column) == \"True\", 1).when(col(column) == \"False\", 0).otherwise(None)\n",
    "\n",
    "df_silver = (\n",
    "    df_bronze\n",
    "    .withColumn(\"amount\", regexp_replace(col(\"amount\"), \",\", \"\").cast(\"double\"))\n",
    "    .withColumn(\"is_international\", bool_to_int(\"is_international\"))\n",
    "    .withColumn(\"is_chip\", bool_to_int(\"is_chip\"))\n",
    "    .withColumn(\"is_contactless\", bool_to_int(\"is_contactless\"))\n",
    "    .withColumn(\"label_fraud\", bool_to_int(\"label_fraud\"))\n",
    ")\n",
    "\n",
    "# Save Silver Delta\n",
    "df_silver.write.format(\"delta\").mode(\"overwrite\").save(silver_path)\n",
    "\n",
    "# Export CSV\n",
    "df_silver.write.option(\"header\",\"true\").mode(\"overwrite\").csv(silver_csv_path)\n",
    "\n",
    "display(df_silver.limit(10))\n"
   ]
  }
 ],
 "metadata": {
  "application/vnd.databricks.v1+notebook": {
   "computePreferences": null,
   "dashboards": [],
   "environmentMetadata": {
    "base_environment": "",
    "environment_version": "4"
   },
   "inputWidgetPreferences": null,
   "language": "python",
   "notebookMetadata": {
    "pythonIndentUnit": 4
   },
   "notebookName": "01_Silver_Transformation",
   "widgets": {}
  },
  "language_info": {
   "name": "python"
  }
 },
 "nbformat": 4,
 "nbformat_minor": 0
}