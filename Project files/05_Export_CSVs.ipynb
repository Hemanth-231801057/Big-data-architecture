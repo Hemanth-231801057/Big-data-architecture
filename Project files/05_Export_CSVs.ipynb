{
 "cells": [
  {
   "cell_type": "code",
   "execution_count": 0,
   "metadata": {
    "application/vnd.databricks.v1+cell": {
     "cellMetadata": {
      "byteLimit": 2048000,
      "rowLimit": 10000
     },
     "inputWidgets": {},
     "nuid": "505c1cd3-cc3f-4bde-9660-930f34fc9421",
     "showTitle": false,
     "tableResultSettingsMap": {},
     "title": ""
    }
   },
   "outputs": [],
   "source": [
    "df_bronze = spark.read.format(\"parquet\").load(\"s3://customer-seg-project/bronze/\")\n",
    "df_silver = spark.read.format(\"delta\").load(\"s3://customer-seg-project/silver_delta/\")\n",
    "df_gold   = spark.read.format(\"delta\").load(\"s3://customer-seg-project/gold_delta/\")\n",
    "\n",
    "df_bronze.coalesce(1).write.option(\"header\",\"true\").mode(\"overwrite\").csv(\"s3://customer-seg-project/exports/bronze_csv/\")\n",
    "df_silver.coalesce(1).write.option(\"header\",\"true\").mode(\"overwrite\").csv(\"s3://customer-seg-project/exports/silver_csv/\")\n",
    "df_gold.coalesce(1).write.option(\"header\",\"true\").mode(\"overwrite\").csv(\"s3://customer-seg-project/exports/gold_csv/\")\n"
   ]
  }
 ],
 "metadata": {
  "application/vnd.databricks.v1+notebook": {
   "computePreferences": null,
   "dashboards": [],
   "environmentMetadata": {
    "base_environment": "",
    "environment_version": "4"
   },
   "inputWidgetPreferences": null,
   "language": "python",
   "notebookMetadata": {
    "pythonIndentUnit": 4
   },
   "notebookName": "05_Export_CSVs",
   "widgets": {}
  },
  "language_info": {
   "name": "python"
  }
 },
 "nbformat": 4,
 "nbformat_minor": 0
}